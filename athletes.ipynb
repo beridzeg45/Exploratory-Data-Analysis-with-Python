{
 "cells": [
  {
   "cell_type": "code",
   "execution_count": 1,
   "id": "8d2d81f5",
   "metadata": {},
   "outputs": [],
   "source": [
    "#from selenium import webdriver\n",
    "#from selenium.webdriver.support.wait import WebDriverWait\n",
    "#from selenium.webdriver.support import expected_conditions\n",
    "#from selenium.webdriver.common.by import By\n",
    "#from selenium.webdriver.common.keys import Keys\n",
    "#from selenium.webdriver.common.action_chains import ActionChains\n",
    "#from selenium.webdriver.support.ui import Select\n",
    "\n",
    "import pandas as pd\n",
    "import pickle\n",
    "import os\n",
    "import sys\n",
    "import warnings\n",
    "import time\n",
    "\n",
    "from bs4 import BeautifulSoup\n",
    "import requests\n",
    "headers = {'User-Agent': 'Mozilla/5.0 (Windows NT 10.0; Win64; x64) AppleWebKit/537.36 (KHTML, like Gecko) Chrome/58.0.3029.110 Safari/537.3'}\n",
    "\n",
    "\n",
    "#from selenium.webdriver.edge.options import Options\n",
    "\n",
    "#edge_options = Options()\n",
    "#edge_options.add_argument('--headless')\n",
    "#edge_options.add_argument(\"--disable-images\")  # Disable images\n",
    "#edge_options.add_argument(\"--disable-javascript\")  # Disable JavaScript\n",
    "#edge_options.add_argument(\"--disable-plugins\")  # Disable plugins\n",
    "#edge_options.add_argument(\"--disable-extensions\")  # Disable extensions\n",
    "#edge_options.add_argument(\"--blink-settings=imagesEnabled=false\")  # Another image disabling flag\n",
    "\n",
    "\n",
    "# Set a minimal User-Agent (like a text-only browser)\n",
    "#edge_options.add_argument(\"user-agent=Links (2.25; Linux 2.4.24)\")\n",
    "\n",
    "#driver = webdriver.Edge(options=edge_options)\n",
    "#driver.execute_cdp_cmd(\"Network.setBlockedURLs\", {\"urls\": [\"*.jpg\", \"*.png\", \"*.gif\",\"*.svg\"]})\n",
    "#driver.execute_cdp_cmd(\"Network.enable\", {})\n",
    "\n",
    "\n",
    "#driver.maximize_window()\n",
    "\n",
    "#driver.execute_script(\"document.body.style.zoom='67%'\")"
   ]
  },
  {
   "cell_type": "markdown",
   "id": "85514ae3",
   "metadata": {},
   "source": [
    "driver.get('https://www.olympedia.org/athletes/advanced_search')"
   ]
  },
  {
   "cell_type": "markdown",
   "id": "7345d666",
   "metadata": {},
   "source": [
    "sport_codes={e.get_attribute('value'):e.text for e in driver.find_elements(By.CSS_SELECTOR, 'select[name=\"sport_group\"][id=\"sport_select\"] option') if e.text!=''}"
   ]
  },
  {
   "cell_type": "markdown",
   "id": "03c50df4",
   "metadata": {},
   "source": [
    "sport_athletes={}\n",
    "\n",
    "for i, (sport_code, sport) in enumerate(sport_codes.items(),start=1):\n",
    "    all_athletes=[]\n",
    "    for page in range(1,10001):\n",
    "        url=f'https://www.olympedia.org/athletes/search_athlete?affiliations=&bio=&birthcountry=&birthplace=&competition_type_id=&continent=&country=&date%5Bbirthday%5D=&date%5Bbirthmonth%5D=&date%5Bbirthyear%5D=&date%5Bdeathday%5D=&date%5Bdeathmonth%5D=&date%5Bdeathyear%5D=&deathcountry=&deathplace=&event_name=&gender=&given_name=&id=&image=&medal=&page={page}&second_country=&sport=&sport_group={sport_code}&surname=&year2=&year='\n",
    "        html=requests.get(url,headers).content\n",
    "        soup=BeautifulSoup(html,'html.parser')\n",
    "        athletes=['https://www.olympedia.org'+e['href'] for e in soup.select('table[class=\"table table-striped\"] tr td a') if 'athletes' in e['href']]\n",
    "        if len(athletes)==0:\n",
    "            break\n",
    "        all_athletes.extend(athletes)\n",
    "        \n",
    "        print(f'Sport: {i}/{len(sport_codes)}, Page: {page}, Total: {len(all_athletes)}'.ljust(80), end='\\r')\n",
    "    \n",
    "    sport_athletes[sport]=all_athletes\n",
    "    \n"
   ]
  },
  {
   "cell_type": "code",
   "execution_count": 2,
   "id": "1bedcc31",
   "metadata": {},
   "outputs": [],
   "source": [
    "#pickle.dump(sport_athletes, open('sport_athletes.pickle','wb'))\n",
    "sport_athletes=pickle.load( open('sport_athletes.pickle','rb'))"
   ]
  },
  {
   "cell_type": "code",
   "execution_count": 7,
   "id": "8ccd465e",
   "metadata": {},
   "outputs": [
    {
     "data": {
      "text/plain": [
       "181059"
      ]
     },
     "execution_count": 7,
     "metadata": {},
     "output_type": "execute_result"
    }
   ],
   "source": [
    "total = len([url for sublist in sport_athletes.values() for url in sublist])\n",
    "total"
   ]
  },
  {
   "cell_type": "code",
   "execution_count": 4,
   "id": "966071d6",
   "metadata": {},
   "outputs": [
    {
     "name": "stdout",
     "output_type": "stream",
     "text": [
      "{1: 2239, 2: 46, 3: 820, 4: 16135, 5: 1374, 6: 86, 7: 27331, 8: 38, 9: 1252, 10: 5005, 11: 13, 17: 3602, 18: 36, 19: 80, 20: 10, 22: 6703, 23: 24, 24: 13, 25: 2605, 26: 10477, 27: 5196, 28: 66, 29: 12, 30: 10, 31: 474, 34: 5805, 35: 4084, 36: 5525, 37: 6265, 38: 239, 39: 20, 40: 3322, 41: 47, 42: 51, 43: 6, 44: 146, 46: 1046, 47: 10, 48: 190, 49: 36, 50: 23, 51: 1025, 52: 25, 53: 113, 54: 223, 55: 126, 56: 24, 57: 10, 58: 8705, 59: 4, 60: 242, 61: 1134, 62: 3000, 63: 1987, 64: 49, 65: 5309, 66: 5000}\n",
      "66\n"
     ]
    }
   ],
   "source": [
    "sorted_files=sorted(os.listdir('scraped_athletes'), key=lambda x: (int(x.split('_')[2]), int(x.split('_')[3].split('.pickle')[0])))\n",
    "\n",
    "max_scraped={}\n",
    "max_sport_index=0\n",
    "for file in sorted_files:\n",
    "    sport_index=int(file.split('_')[2])\n",
    "    athlete_index=int(file.split('_')[3].split('.pickle')[0])\n",
    "    max_scraped[sport_index]=athlete_index\n",
    "\n",
    "    if sport_index>max_sport_index:\n",
    "        max_sport_index=sport_index\n",
    "print(max_scraped)\n",
    "print(max_sport_index)"
   ]
  },
  {
   "cell_type": "code",
   "execution_count": 5,
   "id": "665fcef8",
   "metadata": {},
   "outputs": [
    {
     "name": "stdout",
     "output_type": "stream",
     "text": [
      "Sport: 84/84, Athlete: 497/497                                                                      \r"
     ]
    }
   ],
   "source": [
    "for i, (sport, athlete_urls) in enumerate(sport_athletes.items(),start=1):\n",
    "\n",
    "    if i<max_sport_index:\n",
    "        continue\n",
    "\n",
    "    all_dicts=[]\n",
    "    for j, athlete_url in enumerate(athlete_urls,start=1):\n",
    "        \n",
    "        if i in max_scraped:\n",
    "            athlete_index= max_scraped[i]\n",
    "            if j<=athlete_index:\n",
    "                continue\n",
    "\n",
    "        try:\n",
    "            html=requests.get(athlete_url,headers).content\n",
    "            soup=BeautifulSoup(html,'html.parser')\n",
    "\n",
    "            bio_dict={e.th.text:e.td.text for e in soup.select('table[class=\"biodata\"] tr')}\n",
    "            bio_dict['Sport']=sport\n",
    "            bio_dict['URL']=athlete_url\n",
    "            \n",
    "            all_dicts.append(bio_dict)\n",
    "\n",
    "        except:\n",
    "            continue\n",
    "\n",
    "        print(f'Sport: {i}/{len(sport_athletes)}, Athlete: {j}/{len(athlete_urls)}'.ljust(100),end='\\r')\n",
    "\n",
    "        if j%1000==0 or j==len(athlete_urls):\n",
    "            pickle.dump(all_dicts, open(f'scraped_athletes/all_dicts_{i}_{j}.pickle','wb'))\n",
    "            all_dicts=[]\n"
   ]
  },
  {
   "cell_type": "code",
   "execution_count": null,
   "id": "9233a4ad",
   "metadata": {},
   "outputs": [],
   "source": []
  }
 ],
 "metadata": {
  "kernelspec": {
   "display_name": "Python 3",
   "language": "python",
   "name": "python3"
  },
  "language_info": {
   "codemirror_mode": {
    "name": "ipython",
    "version": 3
   },
   "file_extension": ".py",
   "mimetype": "text/x-python",
   "name": "python",
   "nbconvert_exporter": "python",
   "pygments_lexer": "ipython3",
   "version": "3.12.10"
  }
 },
 "nbformat": 4,
 "nbformat_minor": 5
}
